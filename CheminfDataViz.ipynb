{
 "cells": [
  {
   "cell_type": "markdown",
   "id": "dacca63b",
   "metadata": {},
   "source": [
    "# Introduction \n",
    "Data visualisation can be very efficent mechanism, if you have large chemical datasets, and you want a \"birds-eye-view' on it. For molecules the pipeline is the \n",
    "Molecular structures -> Molecular descriptors (high-dimensional) -> 2D(3D) coordinates\n"
   ]
  },
  {
   "cell_type": "markdown",
   "id": "1d7a608c",
   "metadata": {},
   "source": [
    "### Part I: Principal component analysis\n",
    "\n",
    "In this parctical part, we will do a Principal Component Analysis of a chemical dataset. \n",
    "\n",
    "\n"
   ]
  },
  {
   "cell_type": "markdown",
   "id": "63d9246b",
   "metadata": {},
   "source": [
    "##### Questions:\n",
    "    Q1: "
   ]
  },
  {
   "cell_type": "markdown",
   "id": "8413823e",
   "metadata": {},
   "source": [
    "### Part II: MolCompass and a \"helocopter view\" on the chemical landcape of Estrogen receptor binders/non-binders\n",
    "In this part, your main goal is to investigate the chemical landscape of a dataset of Estrogen binding compounds using a pre-trained parametric t-SNE model. This model converts molecules, represented as SMILES strings into points in a 2D plane, preserving chemical similarity. \n",
    "\n",
    "You should:\n",
    "\n",
    "    1) Install the required packages (MolCompass, pandas) (if not installed)\n",
    "    2) Load the dataset from a CSV file to pandas\n",
    "    3) Calculate 2D coordinates for chemical compounds\n",
    "    4) Visualize the corresponding coordinates and chemcial compounds\n",
    "    5) Describe 6 clusters with typical scaffolds.\n",
    "\n",
    "For this part, all code required is given for you, you do not need to programming. You can just run jupyter cells one-by-one. "
   ]
  },
  {
   "cell_type": "code",
   "execution_count": null,
   "id": "82758d30",
   "metadata": {},
   "outputs": [],
   "source": [
    "!pip install molcomplib"
   ]
  },
  {
   "cell_type": "markdown",
   "id": "19fce157",
   "metadata": {},
   "source": [
    "##### Tasks:\n",
    "   ***T1***: Describe six clusters that you can identify on the visualisation with the corresponding scaffold names and X and Y coordingates of a rectangle, surrounding these clusters \n",
    "    \n",
    "---\n",
    "***write your answer here***"
   ]
  },
  {
   "cell_type": "markdown",
   "id": "8498df1d",
   "metadata": {},
   "source": [
    "##### Questions:\n",
    "    Q1: Identify three pairs of compounds that are not similar but they are close to each other on the map. Propose two possible explanations why the visualisation is not perfect for all pairs of compounds)? \n",
    "    Q2: The MolCompass model utilizes ECFP descriptors. Describe the limitations of this types of descriptors for the goal of chemical visualisation (hint: which compounds are indistingusable)? \n",
    "    "
   ]
  }
 ],
 "metadata": {
  "kernelspec": {
   "display_name": "Python 3 (ipykernel)",
   "language": "python",
   "name": "python3"
  },
  "language_info": {
   "codemirror_mode": {
    "name": "ipython",
    "version": 3
   },
   "file_extension": ".py",
   "mimetype": "text/x-python",
   "name": "python",
   "nbconvert_exporter": "python",
   "pygments_lexer": "ipython3",
   "version": "3.9.7"
  }
 },
 "nbformat": 4,
 "nbformat_minor": 5
}
